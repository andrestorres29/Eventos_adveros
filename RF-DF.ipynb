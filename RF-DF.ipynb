{
 "cells": [
  {
   "cell_type": "markdown",
   "id": "d7cc6c6f-48b1-4ad5-9a2a-e74909a4887a",
   "metadata": {},
   "source": [
    "## Irvin Andres Torres Enriquez\n",
    "### Implementación con Random Forest /Decisión Forest/\n",
    "### Machine learning, MIC\n",
    "### Olanda Prieto"
   ]
  },
  {
   "cell_type": "code",
   "execution_count": 87,
   "id": "8ea4c823-dcc4-4df1-826d-83198a986334",
   "metadata": {},
   "outputs": [],
   "source": [
    "import pandas as pd\n",
    "import seaborn as sns\n",
    "import matplotlib.pyplot as plt\n",
    "from sklearn.model_selection import train_test_split\n",
    "from sklearn.preprocessing import StandardScaler, OneHotEncoder\n",
    "from sklearn.ensemble import RandomForestRegressor\n",
    "from sklearn.model_selection import GridSearchCV\n",
    "from sklearn.metrics import mean_squared_error, r2_score\n",
    "from sklearn.compose import ColumnTransformer\n",
    "from sklearn.pipeline import Pipeline\n",
    "\n"
   ]
  },
  {
   "cell_type": "code",
   "execution_count": 88,
   "id": "9f5b3538-3f44-4ad6-8d81-f224bb263613",
   "metadata": {},
   "outputs": [],
   "source": [
    "data = pd.read_csv('eventos.csv')"
   ]
  },
  {
   "cell_type": "code",
   "execution_count": 89,
   "id": "fc8f5058-8867-4f07-9584-3a71e4365560",
   "metadata": {},
   "outputs": [
    {
     "name": "stdout",
     "output_type": "stream",
     "text": [
      "   Year     County  PSI  ... Count  Population  ObsRate\n",
      "0  2005  STATEWIDE   21  ...   321    26447738     1.21\n",
      "1  2006  STATEWIDE   21  ...   341    26679904     1.28\n",
      "2  2007  STATEWIDE   21  ...   353    26935982     1.31\n",
      "3  2008  STATEWIDE   21  ...   346    27272108     1.27\n",
      "4  2009  STATEWIDE   21  ...   308    27630962     1.11\n",
      "\n",
      "[5 rows x 7 columns]\n",
      "<class 'pandas.core.frame.DataFrame'>\n",
      "RangeIndex: 4543 entries, 0 to 4542\n",
      "Data columns (total 7 columns):\n",
      " #   Column          Non-Null Count  Dtype  \n",
      "---  ------          --------------  -----  \n",
      " 0   Year            4543 non-null   int64  \n",
      " 1   County          4543 non-null   object \n",
      " 2   PSI             4543 non-null   int64  \n",
      " 3   PSIDescription  4543 non-null   object \n",
      " 4   Count           4543 non-null   int64  \n",
      " 5   Population      4543 non-null   int64  \n",
      " 6   ObsRate         4543 non-null   float64\n",
      "dtypes: float64(1), int64(4), object(2)\n",
      "memory usage: 248.6+ KB\n",
      "None\n"
     ]
    }
   ],
   "source": [
    "print(data.head())\n",
    "print(data.info())"
   ]
  },
  {
   "cell_type": "code",
   "execution_count": 90,
   "id": "9ceeff59-4b06-46ce-8162-cd250829fd52",
   "metadata": {},
   "outputs": [],
   "source": [
    "data['County'] = data['County'].replace('STATEWIDE', 'Statewide')\n",
    "data = data[~data.County.isin(['Alpine', 'Sierra'])]"
   ]
  },
  {
   "cell_type": "code",
   "execution_count": 91,
   "id": "5e4d0aa7-592f-4a4f-8440-9cf04ee9f39e",
   "metadata": {},
   "outputs": [
    {
     "data": {
      "image/png": "[encoded data removed]",
      "text/plain": [
       "<Figure size 720x576 with 2 Axes>"
      ]
     },
     "metadata": {},
     "output_type": "display_data"
    }
   ],
   "source": [
    "# Convertir variables categóricas en variables dummy\n",
    "data_encoded = pd.get_dummies(data, columns=['County', 'PSIDescription'], drop_first=True)\n",
    "\n",
    "# Filtrar solo las columnas numéricas\n",
    "numeric_data = data_encoded.select_dtypes(include=['float64', 'int64'])\n",
    "\n",
    "# Calcular la matriz de correlación\n",
    "correlation_matrix = numeric_data.corr()\n",
    "plt.figure(figsize=(10, 8))\n",
    "sns.heatmap(correlation_matrix, annot=True, fmt=\".2f\", cmap='coolwarm')\n",
    "plt.title('Matriz de Correlación')\n",
    "plt.show()"
   ]
  },
  {
   "cell_type": "code",
   "execution_count": 99,
   "id": "53f81fb7-6362-4ef9-bd22-1c2821b7af2c",
   "metadata": {},
   "outputs": [
    {
     "name": "stdout",
     "output_type": "stream",
     "text": [
      "Mejores parámetros: {'model__max_depth': None, 'model__min_samples_split': 2, 'model__n_estimators': 100}\n",
      "R²: 0.8551868884852707\n",
      "MSE: 33.29264918881549\n"
     ]
    }
   ],
   "source": [
    "# Suponiendo que ya tienes tu DataFrame 'data'\n",
    "X = data[['Year', 'County', 'PSIDescription']]\n",
    "y = data['ObsRate']\n",
    "\n",
    "# Dividir los datos en Train/Val y Test\n",
    "X_train_val, X_test, y_train_val, y_test = train_test_split(X, y, test_size=0.2, random_state=42)\n",
    "\n",
    "# Dividir nuevamente Train/Val en Train y Validation\n",
    "X_train, X_val, y_train, y_val = train_test_split(X_train_val, y_train_val, test_size=0.2, random_state=42)\n",
    "\n",
    "# Definir las columnas numéricas y categóricas\n",
    "numeric_features = ['Year']  # 'Year' es numérica\n",
    "categorical_features = ['County', 'PSIDescription']  # 'County' y 'PSIDescription' son categóricas\n",
    "\n",
    "# Crear un preprocesador para las columnas numéricas y categóricas\n",
    "preprocessor = ColumnTransformer(\n",
    "    transformers=[\n",
    "        ('num', StandardScaler(), numeric_features),  # Escalar columnas numéricas\n",
    "        ('cat', OneHotEncoder(), categorical_features)  # Codificar columnas categóricas\n",
    "    ])\n",
    "\n",
    "# Crear un pipeline que primero preprocesa y luego ajusta el modelo\n",
    "pipeline_rf = Pipeline(steps=[\n",
    "    ('preprocessor', preprocessor),\n",
    "    ('model', RandomForestRegressor(random_state=42))  # Random Forest con 100 árboles\n",
    "])\n",
    "\n",
    "# Definir la cuadrícula de parámetros para el modelo\n",
    "param_grid_rf = {\n",
    "    'model__n_estimators': [50, 100],\n",
    "    'model__max_depth': [None, 10, 20],\n",
    "    'model__min_samples_split': [2, 5]\n",
    "}\n",
    "\n",
    "# Crear GridSearchCV usando el pipeline\n",
    "grid_search_rf = GridSearchCV(pipeline_rf, param_grid_rf, cv=5)\n",
    "\n",
    "# Ajustar el modelo con los datos de entrenamiento\n",
    "grid_search_rf.fit(X_train, y_train)\n",
    "\n",
    "# Ver los mejores parámetros encontrados\n",
    "print(f\"Mejores parámetros: {grid_search_rf.best_params_}\")\n",
    "\n",
    "# Realizar predicciones con el mejor modelo\n",
    "y_pred_rf = grid_search_rf.best_estimator_.predict(X_test)\n",
    "\n",
    "# Calcular y mostrar las métricas de desempeño\n",
    "from sklearn.metrics import mean_squared_error, r2_score\n",
    "print(f'R²: {r2_score(y_test, y_pred_rf)}')\n",
    "print(f'MSE: {mean_squared_error(y_test, y_pred_rf)}')"
   ]
  },
  {
   "cell_type": "code",
   "execution_count": 103,
   "id": "dbca3ac8-68e4-4232-8371-236e492a46cd",
   "metadata": {},
   "outputs": [
    {
     "data": {
      "text/plain": [
       "['random_forest.sav']"
      ]
     },
     "execution_count": 103,
     "metadata": {},
     "output_type": "execute_result"
    }
   ],
   "source": [
    "# Obtener el mejor modelo encontrado por GridSearchCV\n",
    "best_model = grid_search_rf.best_estimator_\n",
    "\n",
    "# Guardar el modelo en un archivo .sav\n",
    "joblib.dump(best_model, 'random_forest.sav')"
   ]
  },
  {
   "cell_type": "code",
   "execution_count": null,
   "id": "9c13585e-0ea1-4cc6-bebb-4a8d82cc502d",
   "metadata": {},
   "outputs": [],
   "source": []
  }
 ],
 "metadata": {
  "kernelspec": {
   "display_name": "Python 3 (Spyder)",
   "language": "python3",
   "name": "python3"
  },
  "language_info": {
   "codemirror_mode": {
    "name": "ipython",
    "version": 3
   },
   "file_extension": ".py",
   "mimetype": "text/x-python",
   "name": "python",
   "nbconvert_exporter": "python",
   "pygments_lexer": "ipython3",
   "version": "3.12.3"
  }
 },
 "nbformat": 4,
 "nbformat_minor": 5
}
